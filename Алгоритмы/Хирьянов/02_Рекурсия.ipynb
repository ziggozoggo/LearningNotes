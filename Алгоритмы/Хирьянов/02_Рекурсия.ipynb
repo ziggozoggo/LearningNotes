{
 "cells": [
  {
   "cell_type": "markdown",
   "id": "1a02d525",
   "metadata": {},
   "source": [
    "### Рекурсия\n",
    "Хирьянов, лекции 01-09\n",
    "\n",
    "https://www.youtube.com/watch?v=KdZ4HF1SrFs&list=PLRDzFCPr95fK7tr47883DFUbm4GeOjjc0\n",
    "\n",
    "Суть заключается в двух моментах:\n",
    "\n",
    "* Определение крайнего случая (конечного действия)\n",
    "* Определение рекурентного случая (действие, порождающее более простое действие, которое стремится к крайнему случаю"
   ]
  },
  {
   "cell_type": "markdown",
   "id": "74bf45d1",
   "metadata": {},
   "source": [
    "#### Факториал"
   ]
  },
  {
   "cell_type": "code",
   "execution_count": 14,
   "id": "075ba83c",
   "metadata": {},
   "outputs": [],
   "source": [
    "# Факториал\n",
    "# n! = (n-1)! * n <- рекурентный случай\n",
    "# 1, при n = 1\n",
    "\n",
    "def factorial_rec(n: int) -> int:\n",
    "    \"\"\"Вычисление факториала рекурсивным алгоритмом.\n",
    "    Для отрицательных n возвращает ошибку \n",
    "    \"\"\"\n",
    "    # Проверка на отрицательный n\n",
    "    assert n>=0, \"Факториал для отрицательных чисел не определён\"\n",
    "    # Крайний случай, выход из рекурсии\n",
    "    if n <= 1:\n",
    "        return 1\n",
    "    # Рекурентный случай\n",
    "    return n * factorial_rec(n - 1)"
   ]
  },
  {
   "cell_type": "code",
   "execution_count": 15,
   "id": "8d053c10",
   "metadata": {},
   "outputs": [
    {
     "data": {
      "text/plain": [
       "24"
      ]
     },
     "execution_count": 15,
     "metadata": {},
     "output_type": "execute_result"
    }
   ],
   "source": [
    "factorial_rec(4)"
   ]
  },
  {
   "cell_type": "markdown",
   "id": "1726b725",
   "metadata": {},
   "source": [
    "#### Алгоритм Евклида для нахождения НОД"
   ]
  },
  {
   "cell_type": "code",
   "execution_count": 16,
   "id": "79772822",
   "metadata": {},
   "outputs": [],
   "source": [
    "# Алгоритм Евклида; нахождение наибольшего общего делителя для двух чисел a и b\n",
    "# Крайний случай: a, если a = b\n",
    "# Рекурентный случай: gcd(a-b, b) a > b; gcd(a, b-a) b > a\n",
    "\n",
    "def gcd(a: int, b: int) -> int:\n",
    "    \"\"\" Алгоритм Евклида (поиск НОД) при помощи рекурсии\n",
    "    Для чисел с плавающей точкой не работает\n",
    "    \"\"\"\n",
    "    if a == b:\n",
    "        return a\n",
    "    elif a > b:\n",
    "        return gcd(a-b, b)\n",
    "    else:\n",
    "        return gcd(a, b-a)"
   ]
  },
  {
   "cell_type": "code",
   "execution_count": 17,
   "id": "83971faf",
   "metadata": {},
   "outputs": [
    {
     "data": {
      "text/plain": [
       "3"
      ]
     },
     "execution_count": 17,
     "metadata": {},
     "output_type": "execute_result"
    }
   ],
   "source": [
    "gcd(6, 9)"
   ]
  },
  {
   "cell_type": "markdown",
   "id": "bc7ab122",
   "metadata": {},
   "source": [
    "#### Число Фибоначчи"
   ]
  },
  {
   "cell_type": "code",
   "execution_count": 30,
   "id": "4bb6f7df",
   "metadata": {},
   "outputs": [],
   "source": [
    "# Классический пример рекурсии с крайне высоким O(FIB N); можно использовать только для демонстрации\n",
    "def fib(n: int) -> int:\n",
    "    \"\"\" Вычисление числа Фибоначчи методом рекурсии\n",
    "    \"\"\"\n",
    "    # для 1 и 2 возвращаем значение 1;\n",
    "    if n <= 2:\n",
    "        return 1\n",
    "    return fib(n-1) + fib(n-2)"
   ]
  },
  {
   "cell_type": "code",
   "execution_count": 32,
   "id": "6aca4bc3",
   "metadata": {},
   "outputs": [
    {
     "data": {
      "text/plain": [
       "610"
      ]
     },
     "execution_count": 32,
     "metadata": {},
     "output_type": "execute_result"
    }
   ],
   "source": [
    "fib(15)"
   ]
  },
  {
   "cell_type": "code",
   "execution_count": 28,
   "id": "c0276725",
   "metadata": {},
   "outputs": [],
   "source": [
    "# Оптимальная реализация; не рекурсия но уже динамическое программирование (\"вывернутая\" рекурсия)\n",
    "# Идея заключается в виртуальном заполнении таблицы ранее вычисленных значений\n",
    "# Алгоритм O(n)\n",
    "\n",
    "def fib_dyn(n: int) -> int:\n",
    "    \"\"\"Оптимальное вычисление числа Фибоначчи используя приём динамического программирования\n",
    "    \"\"\"\n",
    "    fib_array = [0, 1] + [0] * (n-1)\n",
    "    for i in range(2, n + 1):\n",
    "        fib_array[i] = fib_array[i-1] + fib_array[i-2]\n",
    "    return fib_array[-1]"
   ]
  },
  {
   "cell_type": "code",
   "execution_count": 33,
   "id": "6214f52b",
   "metadata": {},
   "outputs": [
    {
     "data": {
      "text/plain": [
       "610"
      ]
     },
     "execution_count": 33,
     "metadata": {},
     "output_type": "execute_result"
    }
   ],
   "source": [
    "fib_dyn(15)"
   ]
  },
  {
   "cell_type": "code",
   "execution_count": null,
   "id": "b4da46cf",
   "metadata": {},
   "outputs": [],
   "source": []
  }
 ],
 "metadata": {
  "kernelspec": {
   "display_name": "Python 3 (ipykernel)",
   "language": "python",
   "name": "python3"
  },
  "language_info": {
   "codemirror_mode": {
    "name": "ipython",
    "version": 3
   },
   "file_extension": ".py",
   "mimetype": "text/x-python",
   "name": "python",
   "nbconvert_exporter": "python",
   "pygments_lexer": "ipython3",
   "version": "3.9.6"
  }
 },
 "nbformat": 4,
 "nbformat_minor": 5
}
