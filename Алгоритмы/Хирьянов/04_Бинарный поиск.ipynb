{
 "cells": [
  {
   "cell_type": "markdown",
   "id": "5023eca5",
   "metadata": {},
   "source": [
    "### Бинарный поиск"
   ]
  },
  {
   "cell_type": "code",
   "execution_count": 1,
   "id": "56eff3c9",
   "metadata": {},
   "outputs": [],
   "source": [
    "# Бинарный поиск применим только для отсортированного массива (списка)\n",
    "def check_sort(input_list: list, ascending=True) -> bool:\n",
    "    \"\"\"Проверка упорядоченности массива за O(n)\n",
    "    \"\"\"\n",
    "    # Реализация множителя для автоматического \"переворачивания\" сравнения в зависимости от параметра ascending\n",
    "    s = 2 * int(ascending) - 1 # 1 если True, -1 если False\n",
    "    \n",
    "    for i in range(len(input_list) - 1):\n",
    "        if s * input_list[i] > s * input_list[i + 1]:\n",
    "            return False\n",
    "    return True"
   ]
  },
  {
   "cell_type": "code",
   "execution_count": 7,
   "id": "f5daefaa",
   "metadata": {},
   "outputs": [
    {
     "data": {
      "text/plain": [
       "False"
      ]
     },
     "execution_count": 7,
     "metadata": {},
     "output_type": "execute_result"
    }
   ],
   "source": [
    "my_list = [1,4,5,3,2,4]\n",
    "check_sort(my_list)"
   ]
  },
  {
   "cell_type": "code",
   "execution_count": 8,
   "id": "7b2701b4",
   "metadata": {},
   "outputs": [
    {
     "data": {
      "text/plain": [
       "True"
      ]
     },
     "execution_count": 8,
     "metadata": {},
     "output_type": "execute_result"
    }
   ],
   "source": [
    "my_list.sort()\n",
    "check_sort(my_list)"
   ]
  },
  {
   "cell_type": "markdown",
   "id": "e21ad2fb",
   "metadata": {},
   "source": [
    "#### Стандартная реализация бинарного поиска"
   ]
  },
  {
   "cell_type": "code",
   "execution_count": 13,
   "id": "f6fd3c50",
   "metadata": {},
   "outputs": [],
   "source": [
    "def bin_search(sorted_list: list, number: int) -> bool:\n",
    "    \"\"\"Реализация бинарного поиска заданного числа в указанном списке\n",
    "    \"\"\"\n",
    "    # Определение центра и границ\n",
    "    h_index = len(sorted_list) - 1\n",
    "    l_index = 0\n",
    "    \n",
    "    while l_index <= h_index:\n",
    "        m_index = (l_index + h_index) // 2\n",
    "        if sorted_list[m_index] == number:\n",
    "            return True\n",
    "        elif sorted_list[m_index] < number:\n",
    "            l_index = m_index + 1\n",
    "        elif sorted_list[m_index] > number:\n",
    "            h_index = m_index - 1  \n",
    "    return False"
   ]
  },
  {
   "cell_type": "code",
   "execution_count": 14,
   "id": "742518bf",
   "metadata": {},
   "outputs": [
    {
     "data": {
      "text/plain": [
       "True"
      ]
     },
     "execution_count": 14,
     "metadata": {},
     "output_type": "execute_result"
    }
   ],
   "source": [
    "bin_search(my_list, 3)"
   ]
  },
  {
   "cell_type": "markdown",
   "id": "3c8f03ae",
   "metadata": {},
   "source": [
    "#### Рекурсия"
   ]
  },
  {
   "cell_type": "code",
   "execution_count": 51,
   "id": "52368710",
   "metadata": {},
   "outputs": [],
   "source": [
    "def bin_search_rec(sorted_list, low_index, high_index, number):\n",
    "    \"\"\"Реализация бинарного поиска заданного числа в указанном списке для приведённых индексов\n",
    "    \"\"\"\n",
    "    # Крайний случай\n",
    "    if low_index > high_index:\n",
    "        return False\n",
    "    \n",
    "    # Рекурентный случай\n",
    "    m_index = (low_index + high_index) // 2\n",
    "    \n",
    "    if sorted_list[m_index] == number:\n",
    "        return True\n",
    "    \n",
    "    elif sorted_list[m_index] > number:\n",
    "        high_index = m_index - 1\n",
    "        return bin_search_rec(sorted_list, low_index, high_index, number)\n",
    "    else:\n",
    "        low_index = m_index + 1\n",
    "        return bin_search_rec(sorted_list, low_index, high_index, number)"
   ]
  },
  {
   "cell_type": "code",
   "execution_count": 56,
   "id": "c8f361e9",
   "metadata": {},
   "outputs": [
    {
     "data": {
      "text/plain": [
       "False"
      ]
     },
     "execution_count": 56,
     "metadata": {},
     "output_type": "execute_result"
    }
   ],
   "source": [
    "bin_search_rec(my_list, 0, len(my_list)-1, 12)"
   ]
  },
  {
   "cell_type": "markdown",
   "id": "3ea161d5",
   "metadata": {},
   "source": [
    "#### Бинарный поиск с результатом ввиде диапазона нахождения искомого числа"
   ]
  },
  {
   "cell_type": "code",
   "execution_count": 65,
   "id": "a761412c",
   "metadata": {},
   "outputs": [],
   "source": [
    "def left_bound(sorted_list: list, number: int) -> int:\n",
    "    \"\"\"Первый левый индекс искомого числа в списке\n",
    "    Вспомогательная функция\n",
    "    \"\"\"\n",
    "    # Указатели изначально за границей массива\n",
    "    left = -1\n",
    "    right = len(sorted_list)\n",
    "    \n",
    "    while right - left > 1:\n",
    "        middle = (right + left) // 2\n",
    "        if sorted_list[middle] < number:\n",
    "            left = middle\n",
    "        else:\n",
    "            right = middle\n",
    "    return left\n",
    "\n",
    "def right_bound(sorted_list: list, number: int) -> int:\n",
    "    \"\"\"Последний правый индекс искомого числа в списке\n",
    "    Вспомогательная функция\n",
    "    \"\"\"\n",
    "    left = -1\n",
    "    right = len(sorted_list)\n",
    "    \n",
    "    while right - left > 1:\n",
    "        middle = (right + left) // 2\n",
    "        if sorted_list[middle] <= number:\n",
    "            left = middle\n",
    "        else:\n",
    "            right = middle\n",
    "    return right\n",
    "\n",
    "# Собираем всё вместе:\n",
    "def complex_bin_search(sorted_list: list, number: int):\n",
    "    \"\"\"Бинарный поиск диапазона вхождения иского числа в список\n",
    "    Если число одно - возвращает индекс положения числа в списке;\n",
    "    Если чисел несколько - возвращает кортеж с левой (нижней) и правой(верхней) границами расположения чисел в списке\n",
    "    В ином случае возвращает False\n",
    "    \"\"\"\n",
    "    low_index = left_bound(sorted_list, number)\n",
    "    high_index = right_bound(sorted_list, number)\n",
    "    \n",
    "    \n",
    "    if high_index - low_index == 1:\n",
    "        return False\n",
    "    if low_index < high_index:\n",
    "        if low_index + 1 == high_index - 1:\n",
    "            return low_index + 1\n",
    "        else:\n",
    "            return low_index + 1, high_index - 1\n",
    "    elif low_index >= high_index:\n",
    "        return False"
   ]
  },
  {
   "cell_type": "code",
   "execution_count": 66,
   "id": "caab378a",
   "metadata": {},
   "outputs": [
    {
     "data": {
      "text/plain": [
       "(3, 4)"
      ]
     },
     "execution_count": 66,
     "metadata": {},
     "output_type": "execute_result"
    }
   ],
   "source": [
    "complex_bin_search(my_list, 4)"
   ]
  },
  {
   "cell_type": "code",
   "execution_count": 67,
   "id": "4bcdbb5f",
   "metadata": {},
   "outputs": [
    {
     "data": {
      "text/plain": [
       "(4, 4)"
      ]
     },
     "execution_count": 67,
     "metadata": {},
     "output_type": "execute_result"
    }
   ],
   "source": [
    "my_list[complex_bin_search(my_list, 4)[0]], my_list[complex_bin_search(my_list, 4)[1]]"
   ]
  },
  {
   "cell_type": "code",
   "execution_count": 68,
   "id": "df5ccccc",
   "metadata": {},
   "outputs": [
    {
     "data": {
      "text/plain": [
       "False"
      ]
     },
     "execution_count": 68,
     "metadata": {},
     "output_type": "execute_result"
    }
   ],
   "source": [
    "complex_bin_search(my_list, 9)"
   ]
  },
  {
   "cell_type": "code",
   "execution_count": 69,
   "id": "bb055ac9",
   "metadata": {},
   "outputs": [
    {
     "data": {
      "text/plain": [
       "5"
      ]
     },
     "execution_count": 69,
     "metadata": {},
     "output_type": "execute_result"
    }
   ],
   "source": [
    "complex_bin_search(my_list, 5)"
   ]
  },
  {
   "cell_type": "code",
   "execution_count": null,
   "id": "097f3034",
   "metadata": {},
   "outputs": [],
   "source": []
  }
 ],
 "metadata": {
  "kernelspec": {
   "display_name": "Python 3 (ipykernel)",
   "language": "python",
   "name": "python3"
  },
  "language_info": {
   "codemirror_mode": {
    "name": "ipython",
    "version": 3
   },
   "file_extension": ".py",
   "mimetype": "text/x-python",
   "name": "python",
   "nbconvert_exporter": "python",
   "pygments_lexer": "ipython3",
   "version": "3.9.6"
  }
 },
 "nbformat": 4,
 "nbformat_minor": 5
}
