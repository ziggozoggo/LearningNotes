{
 "cells": [
  {
   "cell_type": "markdown",
   "id": "6c8ecac7",
   "metadata": {},
   "source": [
    "### Рекурсивные алгоритмы\n",
    "* Генерацичя числа всех перестановок\n",
    "* Сортировка слиянием\n",
    "* Быстрая сортировки (Тони Хоара)\n"
   ]
  },
  {
   "cell_type": "markdown",
   "id": "9518ba8d",
   "metadata": {},
   "source": [
    "#### Генерация числа всех перестановок"
   ]
  },
  {
   "cell_type": "code",
   "execution_count": 1,
   "id": "1a12472c",
   "metadata": {},
   "outputs": [],
   "source": [
    "def gen_num(N: int, M: int, prefix=None):\n",
    "    \"\"\"Генерация всех перестановок чисел размером N x M \n",
    "    \"\"\"\n",
    "    prefix = prefix or []\n",
    "    # Крайни случай; осталось сгенерить список из 0 объектов\n",
    "    if M == 0:\n",
    "        print(prefix)\n",
    "        return\n",
    "    \n",
    "    # Рекурсия в цикле\n",
    "    for digit in range(N):\n",
    "        prefix.append(digit)\n",
    "        gen_num(N, M-1, prefix)\n",
    "        prefix.pop()"
   ]
  },
  {
   "cell_type": "code",
   "execution_count": 3,
   "id": "12f8807b",
   "metadata": {},
   "outputs": [
    {
     "name": "stdout",
     "output_type": "stream",
     "text": [
      "[0, 0]\n",
      "[0, 1]\n",
      "[1, 0]\n",
      "[1, 1]\n"
     ]
    }
   ],
   "source": [
    "gen_num(2,2)"
   ]
  },
  {
   "cell_type": "code",
   "execution_count": 4,
   "id": "54fdb40e",
   "metadata": {},
   "outputs": [],
   "source": [
    "# Более простая реализация для двоичной системы\n",
    "def gen_bin(M: int, prefix=''):\n",
    "    if M == 0:\n",
    "        print(prefix)\n",
    "        return\n",
    "    else:\n",
    "        gen_bin(M-1, prefix+\"0\")\n",
    "        gen_bin(M-1, prefix+\"1\")"
   ]
  },
  {
   "cell_type": "code",
   "execution_count": 5,
   "id": "404b88da",
   "metadata": {},
   "outputs": [
    {
     "name": "stdout",
     "output_type": "stream",
     "text": [
      "000\n",
      "001\n",
      "010\n",
      "011\n",
      "100\n",
      "101\n",
      "110\n",
      "111\n"
     ]
    }
   ],
   "source": [
    "gen_bin(3)"
   ]
  },
  {
   "cell_type": "markdown",
   "id": "d5db0821",
   "metadata": {},
   "source": [
    "#### Генерация числа перестановок с учётом ранее выведенных значений"
   ]
  },
  {
   "cell_type": "code",
   "execution_count": 12,
   "id": "97d3b774",
   "metadata": {},
   "outputs": [],
   "source": [
    "# То же, но с запоминанием ранее выведенного числа\n",
    "def find(number: int, A: list) -> bool:\n",
    "    \"\"\"Вспомонательная функция для поиска значения number в списке A\n",
    "    \"\"\"\n",
    "    for x in A:\n",
    "        if number == x:\n",
    "            return True\n",
    "    return False\n",
    "\n",
    "def gen_perm(N: int, M: int =-1, prefix=None):\n",
    "    M = N if M== -1 else M\n",
    "    prefix = prefix or []\n",
    "    \n",
    "    # Крайни случай; осталось сгенерить список из 0 объектов\n",
    "    if M == 0:\n",
    "        print(*prefix)\n",
    "        return\n",
    "    \n",
    "    # Рекурсия в цикле\n",
    "    for digit in range(1, N+1): # Если 1 заменить на 0, то в результате будут учитываться перестановки с нулём \n",
    "        if find(digit, prefix):\n",
    "            continue\n",
    "        prefix.append(digit)\n",
    "        gen_perm(N, M-1, prefix)\n",
    "        prefix.pop()"
   ]
  },
  {
   "cell_type": "code",
   "execution_count": 13,
   "id": "44480b99",
   "metadata": {},
   "outputs": [
    {
     "name": "stdout",
     "output_type": "stream",
     "text": [
      "1 2 3\n",
      "1 3 2\n",
      "2 1 3\n",
      "2 3 1\n",
      "3 1 2\n",
      "3 2 1\n"
     ]
    }
   ],
   "source": [
    "gen_perm(3, 3)"
   ]
  },
  {
   "cell_type": "markdown",
   "id": "10b1aea6",
   "metadata": {},
   "source": [
    "#### Сортировка слиянием\n",
    "\n",
    "Суть алгоритма заключается в разделение списка на части, сортировка каждой части и затем их слияние по правилу \"меньший элемент исключается из списка\".\n",
    "\n",
    "\n",
    "Вводится понятие \"Устойчивости сортировки\" - способности алгоритма сохранять позицию равных элементов"
   ]
  },
  {
   "cell_type": "code",
   "execution_count": 14,
   "id": "8382426b",
   "metadata": {},
   "outputs": [],
   "source": [
    "def merge(left_list:list, rigth_list:list) -> list:\n",
    "    \"\"\"Вспомогательная функция\n",
    "    Объединяет два списка с контролем значений\n",
    "    \"\"\"\n",
    "    # Создаётся целевой третий список с длиной обоих списков\n",
    "    target_list = [0] * (len(left_list) + len(rigth_list))\n",
    "    \n",
    "    # Определяем индексы для анализа списков; i для left_list, k - rigth_list, n - target_list\n",
    "    i = k = n = 0\n",
    "    \n",
    "    # Сравниваем A(left_list[i]) с B(rigth_list[i]); если A < B -> кладём значение A в target_list[n]\n",
    "    # увеличиваем индексы на один; повторяем до тех пор пока один из списков не закончится\n",
    "    # после оставшийся список прикрепляем в хвост target_list\n",
    "    \n",
    "    while i < len(left_list) and k < len(rigth_list):\n",
    "        if left_list[i] < rigth_list[k]:\n",
    "            target_list[n] = left_list[i]\n",
    "            i += 1\n",
    "            n += 1\n",
    "        else:\n",
    "            target_list[n] = rigth_list[k]\n",
    "            k += 1\n",
    "            n += 1\n",
    "            \n",
    "    # Склеивание остатка; т.к. в один момент времени осталя только один массив - отработает только один цикл\n",
    "    while i < len(left_list):\n",
    "        target_list[n] = left_list[i]\n",
    "        i += 1\n",
    "        n += 1\n",
    "        \n",
    "    while k < len(rigth_list):\n",
    "        target_list[n] = rigth_list[k]\n",
    "        k += 1\n",
    "        n += 1\n",
    "        \n",
    "    return target_list\n",
    "\n",
    "# Рекурсивная функция сортировки слиянием\n",
    "def merge_sort(unsorted_list: list):\n",
    "    \"\"\" Функция сортировки слиянием заданного массива\n",
    "    \"\"\"\n",
    "    # Крайний случай\n",
    "    if len(unsorted_list) <= 1:\n",
    "        return\n",
    "    \n",
    "    # Рекурентный случай\n",
    "    # Делим список пополам\n",
    "    middle_index = len(unsorted_list) // 2\n",
    "    \n",
    "    # Можно использовать срезы; предложенная реализация для понимания процесса\n",
    "    left_list = [unsorted_list[i] for i in range(0, middle_index)]\n",
    "    right_list = [unsorted_list[i] for i in range(middle_index, len(unsorted_list))]\n",
    "    \n",
    "    # Ветвление рекурсии\n",
    "    merge_sort(left_list)\n",
    "    merge_sort(right_list)\n",
    "    \n",
    "    tmp_list = merge(left_list, right_list)\n",
    "    \n",
    "    # обновление заданного массива\n",
    "    for i in range(len(unsorted_list)):\n",
    "        unsorted_list[i] = tmp_list[i]"
   ]
  },
  {
   "cell_type": "code",
   "execution_count": 15,
   "id": "bda8f0b0",
   "metadata": {},
   "outputs": [],
   "source": [
    "# тестирование\n",
    "def test_sort(sort_algorithm_function):\n",
    "    print(\"Тестируем: \", sort_algorithm_function.__doc__)\n",
    "    print(\"testcase #1:\", end=\"\")\n",
    "    unsorted_list = [4, 2, 5, 1, 3]\n",
    "    sorted_list = [1, 2, 3, 4, 5]\n",
    "    \n",
    "    sort_algorithm_function(unsorted_list)\n",
    "    print(\"Ok\" if unsorted_list == sorted_list else \"Fail\")\n",
    "    \n",
    "    print(\"testcase #2:\", end=\"\")\n",
    "    unsorted_list = list(range(10,20)) + list(range(0, 10))\n",
    "    sorted_list = list(range(0, 20))\n",
    "    \n",
    "    sort_algorithm_function(unsorted_list)\n",
    "    print(\"Ok\" if unsorted_list == sorted_list else \"Fail\")\n",
    "    \n",
    "    print(\"testcase #3:\", end=\"\")\n",
    "    unsorted_list = [4, 2, 4, 5, 1, 1, 3]\n",
    "    sorted_list = [1, 1, 2, 3, 4, 4, 5]\n",
    "    \n",
    "    sort_algorithm_function(unsorted_list)\n",
    "    print(\"Ok\" if unsorted_list == sorted_list else \"Fail\")\n",
    "    print()"
   ]
  },
  {
   "cell_type": "code",
   "execution_count": 16,
   "id": "ebf95157",
   "metadata": {},
   "outputs": [
    {
     "name": "stdout",
     "output_type": "stream",
     "text": [
      "Тестируем:   Функция сортировки слиянием заданного массива\n",
      "    \n",
      "testcase #1:Ok\n",
      "testcase #2:Ok\n",
      "testcase #3:Ok\n",
      "\n"
     ]
    }
   ],
   "source": [
    "test_sort(merge_sort)"
   ]
  },
  {
   "cell_type": "markdown",
   "id": "0f208f41",
   "metadata": {},
   "source": [
    "#### Сортировка методом Тони Хоара (Quick Sort)\n",
    "Идея заключается в выделении барьерного элемента и разбиения массива на три части:\n",
    "* Меньше барьерного\n",
    "* Равного барьерному (отсортирован)\n",
    "* Больше барьерного"
   ]
  },
  {
   "cell_type": "code",
   "execution_count": 17,
   "id": "7832f035",
   "metadata": {},
   "outputs": [],
   "source": [
    "def hoar_sort(unsorted_list: list):\n",
    "    \"\"\" Сортировка методом Тони Хоара\n",
    "    \"\"\"\n",
    "    # Крайний случай\n",
    "    if len(unsorted_list) <= 1:\n",
    "        return\n",
    "    \n",
    "    # Выбираем барьерный элемент для разделения списка на три части:\n",
    "    # L, left <- все элементы, меньше барьерного\n",
    "    # M, medium <- все элементы, равные барьерному\n",
    "    # R, right <- все элементы, больше барьерного\n",
    "    barrier = unsorted_list[0]\n",
    "    \n",
    "    left_list = []\n",
    "    medium_list = []\n",
    "    right_list = []\n",
    "    \n",
    "    # Сортирующее действие\n",
    "    for value in unsorted_list:\n",
    "        if value < barrier:\n",
    "            left_list.append(value)\n",
    "        elif value == barrier:\n",
    "            medium_list.append(value)\n",
    "        else:\n",
    "            right_list.append(value)\n",
    "            \n",
    "    # Рекурсивное действие, по сортировке полученных left_list и right_list\n",
    "    hoar_sort(left_list)\n",
    "    hoar_sort(right_list)\n",
    "    \n",
    "    # Обновление исходного массива без срезов\n",
    "    k = 0\n",
    "    for x in left_list + medium_list + right_list:\n",
    "        unsorted_list[k] = x\n",
    "        k += 1"
   ]
  },
  {
   "cell_type": "code",
   "execution_count": 18,
   "id": "748a3504",
   "metadata": {},
   "outputs": [
    {
     "name": "stdout",
     "output_type": "stream",
     "text": [
      "Тестируем:   Сортировка методом Тони Хоара\n",
      "    \n",
      "testcase #1:Ok\n",
      "testcase #2:Ok\n",
      "testcase #3:Ok\n",
      "\n"
     ]
    }
   ],
   "source": [
    "test_sort(hoar_sort)"
   ]
  },
  {
   "cell_type": "code",
   "execution_count": null,
   "id": "9fd1a804",
   "metadata": {},
   "outputs": [],
   "source": []
  }
 ],
 "metadata": {
  "kernelspec": {
   "display_name": "Python 3 (ipykernel)",
   "language": "python",
   "name": "python3"
  },
  "language_info": {
   "codemirror_mode": {
    "name": "ipython",
    "version": 3
   },
   "file_extension": ".py",
   "mimetype": "text/x-python",
   "name": "python",
   "nbconvert_exporter": "python",
   "pygments_lexer": "ipython3",
   "version": "3.9.6"
  }
 },
 "nbformat": 4,
 "nbformat_minor": 5
}
