{
 "cells": [
  {
   "cell_type": "markdown",
   "id": "509e6356",
   "metadata": {},
   "source": [
    "#### Треугольник паскаля\n",
    "https://en.wikipedia.org/wiki/Pascal%27s_triangle"
   ]
  },
  {
   "cell_type": "code",
   "execution_count": 3,
   "id": "d9befeb9",
   "metadata": {},
   "outputs": [],
   "source": [
    "def pascal_triangle(n: int) -> list:\n",
    "    \"\"\" Треугольник Паскаля с 0 до n\n",
    "    \"\"\"\n",
    "    # Крайний случай\n",
    "    if n == 0:\n",
    "        return []\n",
    "    elif n == 1:\n",
    "        return [[1]]\n",
    "    \n",
    "    # Рекурентный случай\n",
    "    else:\n",
    "        new_row = [1]\n",
    "        result = pascal_triangle(n-1)\n",
    "        last_row = result[-1]\n",
    "        for i in range(len(last_row)-1):\n",
    "            new_row.append(last_row[i] + last_row[i+1])\n",
    "        new_row += [1]\n",
    "        result.append(new_row)\n",
    "    return result"
   ]
  },
  {
   "cell_type": "code",
   "execution_count": 4,
   "id": "42f1ab5b",
   "metadata": {},
   "outputs": [
    {
     "data": {
      "text/plain": [
       "[[1], [1, 1], [1, 2, 1], [1, 3, 3, 1]]"
      ]
     },
     "execution_count": 4,
     "metadata": {},
     "output_type": "execute_result"
    }
   ],
   "source": [
    "pascal_triangle(4)"
   ]
  },
  {
   "cell_type": "code",
   "execution_count": null,
   "id": "c55047a7",
   "metadata": {},
   "outputs": [],
   "source": []
  }
 ],
 "metadata": {
  "kernelspec": {
   "display_name": "Python 3 (ipykernel)",
   "language": "python",
   "name": "python3"
  },
  "language_info": {
   "codemirror_mode": {
    "name": "ipython",
    "version": 3
   },
   "file_extension": ".py",
   "mimetype": "text/x-python",
   "name": "python",
   "nbconvert_exporter": "python",
   "pygments_lexer": "ipython3",
   "version": "3.9.6"
  }
 },
 "nbformat": 4,
 "nbformat_minor": 5
}
